{
 "cells": [
  {
   "cell_type": "code",
   "execution_count": 1,
   "id": "a3e8bc7f",
   "metadata": {},
   "outputs": [],
   "source": [
    "import pandas as pd"
   ]
  },
  {
   "cell_type": "code",
   "execution_count": 27,
   "id": "ec5704f5",
   "metadata": {},
   "outputs": [],
   "source": [
    "import psycopg2\n",
    "import os\n",
    "from dotenv import load_dotenv\n",
    "load_dotenv()\n",
    "\n",
    "\n",
    "def query_db(query):\n",
    "    \"\"\"\n",
    "    Execute a SQL query and return the results.\n",
    "    \"\"\"\n",
    "\n",
    "    connection = psycopg2.connect(\n",
    "        dbname='postgres',\n",
    "        user=os.getenv('DB_ADMIN_NAME'),\n",
    "        password=os.getenv('DB_ADMIN_PASSWORD'),\n",
    "        host='clinical.cwpmisqy4ng3.us-east-1.rds.amazonaws.com',\n",
    "        port=5432\n",
    "    )\n",
    "    \n",
    "    with connection.cursor() as cursor:\n",
    "        cursor.execute(query)\n",
    "        results = cursor.fetchall()\n",
    "\n",
    "    return results"
   ]
  },
  {
   "cell_type": "code",
   "execution_count": 16,
   "id": "95948b43",
   "metadata": {},
   "outputs": [
    {
     "data": {
      "text/plain": [
       "[('follow_up',), ('clinical',), ('pathology_detail',), ('family_history',)]"
      ]
     },
     "execution_count": 16,
     "metadata": {},
     "output_type": "execute_result"
    }
   ],
   "source": [
    "# get all tables in the database\n",
    "tables_query = \"SELECT table_name FROM information_schema.tables WHERE table_schema='public';\"\n",
    "tables = query_db(tables_query)\n",
    "tables"
   ]
  },
  {
   "cell_type": "code",
   "execution_count": 62,
   "id": "25320adb",
   "metadata": {},
   "outputs": [
    {
     "data": {
      "text/plain": [
       "[('postgres',\n",
       "  'public',\n",
       "  'clinical',\n",
       "  'treatments.number_of_cycles',\n",
       "  52,\n",
       "  None,\n",
       "  'YES',\n",
       "  'double precision',\n",
       "  None,\n",
       "  None,\n",
       "  53,\n",
       "  2,\n",
       "  None,\n",
       "  None,\n",
       "  None,\n",
       "  None,\n",
       "  None,\n",
       "  None,\n",
       "  None,\n",
       "  None,\n",
       "  None,\n",
       "  None,\n",
       "  None,\n",
       "  None,\n",
       "  None,\n",
       "  'postgres',\n",
       "  'pg_catalog',\n",
       "  'float8',\n",
       "  None,\n",
       "  None,\n",
       "  None,\n",
       "  None,\n",
       "  '52',\n",
       "  'NO',\n",
       "  'NO',\n",
       "  None,\n",
       "  None,\n",
       "  None,\n",
       "  None,\n",
       "  None,\n",
       "  'NO',\n",
       "  'NEVER',\n",
       "  None,\n",
       "  'YES')]"
      ]
     },
     "execution_count": 62,
     "metadata": {},
     "output_type": "execute_result"
    }
   ],
   "source": [
    "columns_query = \"\"\"\n",
    "SELECT *\n",
    "FROM information_schema.columns\n",
    "WHERE table_name = 'clinical' AND column_name = 'treatments.number_of_cycles';\n",
    "\"\"\"\n",
    "columns = query_db(columns_query)\n",
    "columns"
   ]
  },
  {
   "cell_type": "code",
   "execution_count": 58,
   "id": "cbb5481f",
   "metadata": {},
   "outputs": [
    {
     "ename": "UndefinedTable",
     "evalue": "missing FROM-clause entry for table \"demographic\"\nLINE 2: SELECT demographic.ethnicity\n               ^\n",
     "output_type": "error",
     "traceback": [
      "\u001b[31m---------------------------------------------------------------------------\u001b[39m",
      "\u001b[31mUndefinedTable\u001b[39m                            Traceback (most recent call last)",
      "\u001b[36mCell\u001b[39m\u001b[36m \u001b[39m\u001b[32mIn[58]\u001b[39m\u001b[32m, line 7\u001b[39m\n\u001b[32m      1\u001b[39m \u001b[38;5;66;03m# select (demographic.ethnicity, demographic.gender) columns from clinical table\u001b[39;00m\n\u001b[32m      2\u001b[39m clinical_query = \u001b[33m\"\"\"\u001b[39m\n\u001b[32m      3\u001b[39m \u001b[33mSELECT demographic.ethnicity\u001b[39m\n\u001b[32m      4\u001b[39m \u001b[33mFROM clinical\u001b[39m\n\u001b[32m      5\u001b[39m \u001b[33mWHERE demographic IS NOT NULL;\u001b[39m\n\u001b[32m      6\u001b[39m \u001b[33m\"\"\"\u001b[39m\n\u001b[32m----> \u001b[39m\u001b[32m7\u001b[39m clinical_data = \u001b[43mquery_db\u001b[49m\u001b[43m(\u001b[49m\u001b[43mclinical_query\u001b[49m\u001b[43m)\u001b[49m\n\u001b[32m      8\u001b[39m clinical_data\n",
      "\u001b[36mCell\u001b[39m\u001b[36m \u001b[39m\u001b[32mIn[27]\u001b[39m\u001b[32m, line 21\u001b[39m, in \u001b[36mquery_db\u001b[39m\u001b[34m(query)\u001b[39m\n\u001b[32m     12\u001b[39m connection = psycopg2.connect(\n\u001b[32m     13\u001b[39m     dbname=\u001b[33m'\u001b[39m\u001b[33mpostgres\u001b[39m\u001b[33m'\u001b[39m,\n\u001b[32m     14\u001b[39m     user=os.getenv(\u001b[33m'\u001b[39m\u001b[33mDB_ADMIN_NAME\u001b[39m\u001b[33m'\u001b[39m),\n\u001b[32m   (...)\u001b[39m\u001b[32m     17\u001b[39m     port=\u001b[32m5432\u001b[39m\n\u001b[32m     18\u001b[39m )\n\u001b[32m     20\u001b[39m \u001b[38;5;28;01mwith\u001b[39;00m connection.cursor() \u001b[38;5;28;01mas\u001b[39;00m cursor:\n\u001b[32m---> \u001b[39m\u001b[32m21\u001b[39m     \u001b[43mcursor\u001b[49m\u001b[43m.\u001b[49m\u001b[43mexecute\u001b[49m\u001b[43m(\u001b[49m\u001b[43mquery\u001b[49m\u001b[43m)\u001b[49m\n\u001b[32m     22\u001b[39m     results = cursor.fetchall()\n\u001b[32m     24\u001b[39m \u001b[38;5;28;01mreturn\u001b[39;00m results\n",
      "\u001b[31mUndefinedTable\u001b[39m: missing FROM-clause entry for table \"demographic\"\nLINE 2: SELECT demographic.ethnicity\n               ^\n"
     ]
    }
   ],
   "source": [
    "# select (demographic.ethnicity, demographic.gender) columns from clinical table\n",
    "clinical_query = \"\"\"\n",
    "SELECT demographic.ethnicity\n",
    "FROM clinical\n",
    "WHERE demographic IS NOT NULL;\n",
    "\"\"\"\n",
    "clinical_data = query_db(clinical_query)\n",
    "clinical_data"
   ]
  },
  {
   "cell_type": "code",
   "execution_count": 44,
   "id": "c11fadb4",
   "metadata": {},
   "outputs": [
    {
     "data": {
      "text/plain": [
       "[('project.project_id',),\n",
       " ('cases.case_id',),\n",
       " ('cases.submitter_id',),\n",
       " ('family_histories.relationship_primary_diagnosis',),\n",
       " ('family_histories.relative_with_cancer_history',)]"
      ]
     },
     "execution_count": 44,
     "metadata": {},
     "output_type": "execute_result"
    }
   ],
   "source": [
    "query_db(\"\"\"\n",
    "            SELECT column_name\n",
    "            FROM information_schema.columns\n",
    "            WHERE table_name = 'clinical'\n",
    "        \"\"\"\n",
    "        )"
   ]
  },
  {
   "cell_type": "code",
   "execution_count": 19,
   "id": "12b0d305",
   "metadata": {},
   "outputs": [
    {
     "name": "stdout",
     "output_type": "stream",
     "text": [
      "{'samples': [{'sample_type_id': '01', 'tumor_descriptor': 'Primary', 'sample_id': '6bddf3fb-b808-46ff-8207-ce510315448d', 'submitter_id': 'TCGA-HT-A614-01Z', 'sample_type': 'Primary Tumor', 'created_datetime': '2018-05-17T12:24:55.491180-05:00', 'oct_embedded': 'No', 'specimen_type': 'Solid Tissue', 'days_to_sample_procurement': '0', 'updated_datetime': '2023-11-08T11:18:34.935258-06:00', 'state': 'released', 'is_ffpe': 'true', 'preservation_method': 'FFPE', 'tissue_type': 'Tumor', 'portions': [{'analytes': [], 'portion_id': '09243ea2-060a-5517-b120-af16d16dd4de', 'slides': [{'submitter_id': 'TCGA-HT-A614-01Z-00-DX1', 'section_location': 'Not Reported', 'state': 'released', 'slide_id': 'e91182f1-3962-47e9-81bf-a7b3f6e45583', 'updated_datetime': '2018-08-23T19:39:28.814253-05:00', 'created_datetime': '2018-05-17T13:50:09.687385-05:00'}]}]}, {'sample_type_id': '10', 'tumor_descriptor': 'Not Applicable', 'sample_id': '70dba908-6b41-4081-b0bf-4b46a922ae42', 'submitter_id': 'TCGA-HT-A614-10A', 'sample_type': 'Blood Derived Normal', 'oct_embedded': 'false', 'specimen_type': 'Peripheral Blood NOS', 'composition': 'Not Reported', 'updated_datetime': '2023-11-08T11:19:11.702230-06:00', 'days_to_collection': '78', 'state': 'released', 'is_ffpe': 'false', 'preservation_method': 'Unknown', 'tissue_type': 'Normal', 'portions': [{'analytes': [{'analyte_id': '1de0d570-9a08-4e07-8d75-efa9c7a4013c', 'experimental_protocol_type': 'Repli-G', 'aliquots': [{'aliquot_quantity': '40.0', 'aliquot_id': '227bcb71-2b35-4abf-9642-550f3bc0a532', 'source_center': '23', 'updated_datetime': '2021-09-08T18:11:18.747082-05:00', 'center': {'name': 'Broad Institute of MIT and Harvard', 'namespace': 'broad.mit.edu', 'short_name': 'BI', 'code': '08', 'center_id': '61d634b8-e8dd-58bf-9a65-1233dc7c8c6a', 'center_type': 'GSC'}, 'submitter_id': 'TCGA-HT-A614-10A-01W-A31C-08', 'concentration': '0.5', 'state': 'released', 'aliquot_volume': '80.0'}], 'analyte_type': 'Repli-G (Qiagen) DNA', 'updated_datetime': '2021-09-08T18:11:17.515686-05:00', 'normal_tumor_genotype_snp_match': 'Yes', 'submitter_id': 'TCGA-HT-A614-10A-01W', 'state': 'released', 'analyte_type_id': 'W'}, {'analyte_id': 'f0891b75-ba1b-4f68-bb69-cda46e929e72', 'experimental_protocol_type': 'aDNA Preparation Type', 'aliquots': [{'aliquot_quantity': '1.12', 'aliquot_id': '1c3ac180-df2a-459d-92e3-db23700b9b62', 'source_center': '23', 'updated_datetime': '2021-09-08T18:11:13.112580-05:00', 'center': {'name': 'Broad Institute of MIT and Harvard', 'namespace': 'broad.mit.edu', 'short_name': 'BI', 'code': '01', 'center_id': '5069ce55-a23f-57c4-a28c-70a3c3cb0e4c', 'center_type': 'CGCC'}, 'submitter_id': 'TCGA-HT-A614-10A-01D-A323-01', 'concentration': '0.14', 'state': 'released', 'aliquot_volume': '8.0'}, {'no_matched_normal_targeted_sequencing': 'false', 'selected_normal_low_pass_wgs': 'false', 'selected_normal_wgs': 'false', 'submitter_id': 'TCGA-HT-A614-10A-01D-A87G-36', 'concentration': '0.04', 'no_matched_normal_wgs': 'false', 'aliquot_volume': '50.0', 'created_datetime': '2021-09-08T18:11:16.630559-05:00', 'aliquot_quantity': '2.0', 'aliquot_id': '2c763fda-0da1-4c02-b6ac-74e0386bbe30', 'source_center': '23', 'updated_datetime': '2023-07-27T12:54:59.151622-05:00', 'selected_normal_wxs': 'false', 'no_matched_normal_low_pass_wgs': 'false', 'no_matched_normal_wxs': 'false', 'selected_normal_targeted_sequencing': 'false', 'state': 'released'}, {'aliquot_quantity': '0.94', 'aliquot_id': '73bccf9b-02da-43df-97e3-0a4e92ee7904', 'source_center': '23', 'updated_datetime': '2021-09-08T18:11:08.492097-05:00', 'center': {'name': 'Broad Institute of MIT and Harvard', 'namespace': 'broad.mit.edu', 'short_name': 'BI', 'code': '01', 'center_id': '5069ce55-a23f-57c4-a28c-70a3c3cb0e4c', 'center_type': 'CGCC'}, 'submitter_id': 'TCGA-HT-A614-10A-01D-A29P-01', 'concentration': '0.14', 'state': 'released', 'aliquot_volume': '6.7'}, {'aliquot_quantity': '2.8', 'aliquot_id': 'f812a450-4c23-4684-bb9d-b2db9a185156', 'source_center': '23', 'updated_datetime': '2021-09-08T18:11:10.617077-05:00', 'center': {'name': 'Broad Institute of MIT and Harvard', 'namespace': 'broad.mit.edu', 'short_name': 'BI', 'code': '08', 'center_id': '61d634b8-e8dd-58bf-9a65-1233dc7c8c6a', 'center_type': 'GSC'}, 'submitter_id': 'TCGA-HT-A614-10A-01D-A29Q-08', 'concentration': '0.07', 'state': 'released', 'aliquot_volume': '40.0'}], 'analyte_type': 'DNA', 'updated_datetime': '2021-09-08T18:11:07.152812-05:00', 'normal_tumor_genotype_snp_match': 'Yes', 'spectrophotometer_method': 'PicoGreen', 'submitter_id': 'TCGA-HT-A614-10A-01D', 'concentration': '0.14', 'state': 'released', 'analyte_type_id': 'D'}], 'portion_id': 'f6fda1f4-571f-422e-82d6-8ca72ac5e14d', 'updated_datetime': '2018-09-06T19:04:21.476394-05:00', 'creation_datetime': '1364860800.0', 'submitter_id': 'TCGA-HT-A614-10A-01', 'weight': '2.0', 'portion_number': '01', 'state': 'released', 'is_ffpe': 'false'}]}, {'sample_type_id': '01', 'tumor_descriptor': 'Primary', 'sample_id': 'f086df4f-ad28-4a0b-bd53-ccc677aa9d44', 'pathology_report_uuid': '9E38FBA2-A9D8-4428-B586-A0C7E711EA14', 'submitter_id': 'TCGA-HT-A614-01A', 'sample_type': 'Primary Tumor', 'oct_embedded': 'false', 'specimen_type': 'Solid Tissue', 'composition': 'Not Reported', 'updated_datetime': '2023-11-08T11:21:09.892108-06:00', 'days_to_collection': '78', 'state': 'released', 'initial_weight': '130.0', 'is_ffpe': 'false', 'preservation_method': 'Unknown', 'tissue_type': 'Tumor', 'portions': [{'analytes': [], 'portion_id': '3caf3aa9-ba74-4a49-9124-634ea729ac41', 'updated_datetime': '2021-09-08T18:11:03.910463-05:00', 'center': {'name': 'MD Anderson - RPPA Core Facility (Proteomics)', 'namespace': 'mdanderson.org', 'short_name': 'MDA', 'code': '20', 'center_id': 'a35fab26-d715-5e48-9563-6cd6b189b989', 'center_type': 'CGCC'}, 'creation_datetime': '1403568000.0', 'submitter_id': 'TCGA-HT-A614-01A-21-A44C-20', 'weight': '20.0', 'portion_number': '21', 'state': 'released', 'is_ffpe': 'false'}, {'analytes': [{'analyte_id': '350b5fbd-3be0-44d6-b4c9-6b1c0ce5b5b8', 'experimental_protocol_type': 'Repli-G', 'aliquots': [{'aliquot_quantity': '40.0', 'aliquot_id': '814d412c-d29b-468e-a5fc-a77025e2ff3b', 'source_center': '23', 'updated_datetime': '2021-09-08T18:11:01.792104-05:00', 'center': {'name': 'Broad Institute of MIT and Harvard', 'namespace': 'broad.mit.edu', 'short_name': 'BI', 'code': '08', 'center_id': '61d634b8-e8dd-58bf-9a65-1233dc7c8c6a', 'center_type': 'GSC'}, 'submitter_id': 'TCGA-HT-A614-01A-11W-A31C-08', 'concentration': '0.5', 'state': 'released', 'aliquot_volume': '80.0'}], 'analyte_type': 'Repli-G (Qiagen) DNA', 'updated_datetime': '2021-09-08T18:11:00.388438-05:00', 'normal_tumor_genotype_snp_match': 'Yes', 'submitter_id': 'TCGA-HT-A614-01A-11W', 'state': 'released', 'analyte_type_id': 'W'}, {'analyte_id': '9b5a4fe4-a96d-4f3b-b47c-5bbed798ed89', 'experimental_protocol_type': 'aDNA Preparation Type', 'aliquots': [{'no_matched_normal_targeted_sequencing': 'false', 'selected_normal_low_pass_wgs': 'false', 'selected_normal_wgs': 'false', 'submitter_id': 'TCGA-HT-A614-01A-11D-A87G-36', 'concentration': '0.04', 'no_matched_normal_wgs': 'false', 'aliquot_volume': '50.0', 'created_datetime': '2021-09-08T18:10:53.230325-05:00', 'aliquot_quantity': '2.0', 'aliquot_id': '83633b80-41ab-4d45-8b0a-b0a8c72517c4', 'source_center': '23', 'updated_datetime': '2023-07-27T12:54:59.151622-05:00', 'selected_normal_wxs': 'false', 'no_matched_normal_low_pass_wgs': 'false', 'no_matched_normal_wxs': 'false', 'selected_normal_targeted_sequencing': 'false', 'state': 'released'}, {'aliquot_quantity': '3.2', 'aliquot_id': 'a8c8f66c-25bc-4dea-9ac2-6cafdd75a489', 'source_center': '23', 'updated_datetime': '2021-09-08T18:10:45.678440-05:00', 'center': {'name': 'Broad Institute of MIT and Harvard', 'namespace': 'broad.mit.edu', 'short_name': 'BI', 'code': '08', 'center_id': '61d634b8-e8dd-58bf-9a65-1233dc7c8c6a', 'center_type': 'GSC'}, 'submitter_id': 'TCGA-HT-A614-01A-11D-A29Q-08', 'concentration': '0.08', 'state': 'released', 'aliquot_volume': '40.0'}, {'aliquot_quantity': '1.36', 'aliquot_id': 'a8dbbb00-21a9-495c-9fb3-2397d93c1a50', 'source_center': '23', 'updated_datetime': '2021-09-08T18:10:50.188979-05:00', 'center': {'name': 'Broad Institute of MIT and Harvard', 'namespace': 'broad.mit.edu', 'short_name': 'BI', 'code': '01', 'center_id': '5069ce55-a23f-57c4-a28c-70a3c3cb0e4c', 'center_type': 'CGCC'}, 'submitter_id': 'TCGA-HT-A614-01A-11D-A323-01', 'concentration': '0.17', 'state': 'released', 'aliquot_volume': '8.0'}, {'aliquot_quantity': '2.21', 'aliquot_id': 'cf1b7042-ba57-411a-b484-786e0296b98a', 'source_center': '23', 'updated_datetime': '2021-09-08T18:10:48.071754-05:00', 'center': {'name': 'Johns Hopkins / University of Southern California', 'namespace': 'jhu-usc.edu', 'short_name': 'JHU_USC', 'code': '05', 'center_id': '7ef3885b-37ce-5e16-8ba3-9d75b6690008', 'center_type': 'CGCC'}, 'submitter_id': 'TCGA-HT-A614-01A-11D-A29T-05', 'concentration': '0.17', 'state': 'released', 'aliquot_volume': '13.0'}, {'aliquot_quantity': '1.14', 'aliquot_id': 'cf5e0a47-ca6b-47fa-812c-3fa90dcfa48d', 'source_center': '23', 'updated_datetime': '2021-09-08T18:10:43.395120-05:00', 'center': {'name': 'Broad Institute of MIT and Harvard', 'namespace': 'broad.mit.edu', 'short_name': 'BI', 'code': '01', 'center_id': '5069ce55-a23f-57c4-a28c-70a3c3cb0e4c', 'center_type': 'CGCC'}, 'submitter_id': 'TCGA-HT-A614-01A-11D-A29P-01', 'concentration': '0.17', 'state': 'released', 'aliquot_volume': '6.7'}], 'analyte_type': 'DNA', 'updated_datetime': '2021-09-08T18:10:41.912391-05:00', 'normal_tumor_genotype_snp_match': 'Yes', 'spectrophotometer_method': 'PicoGreen', 'submitter_id': 'TCGA-HT-A614-01A-11D', 'concentration': '0.17', 'state': 'released', 'analyte_type_id': 'D'}, {'experimental_protocol_type': 'mirVana (Allprep DNA) RNA', 'aliquots': [{'aliquot_quantity': '3.4', 'aliquot_id': '08aa3ff6-be7c-4885-b040-1a58ac58f601', 'source_center': '23', 'updated_datetime': '2021-09-08T18:10:58.051640-05:00', 'center': {'name': \"Canada's Michael Smith Genome Sciences Centre\", 'namespace': 'bcgsc.ca', 'short_name': 'BCGSC', 'code': '13', 'center_id': '6eba705a-0f00-5aa2-b1d0-04dbf62100cc', 'center_type': 'CGCC'}, 'submitter_id': 'TCGA-HT-A614-01A-11R-A29V-13', 'concentration': '0.17', 'state': 'released', 'aliquot_volume': '20.0'}, {'aliquot_quantity': '2.21', 'aliquot_id': '5a3d8ba7-dea1-4155-9345-c542719b29f4', 'source_center': '23', 'updated_datetime': '2021-09-08T18:10:55.782979-05:00', 'center': {'name': 'University of North Carolina', 'namespace': 'unc.edu', 'short_name': 'UNC', 'code': '07', 'center_id': 'ee7a85b3-8177-5d60-a10c-51180eb9009c', 'center_type': 'CGCC'}, 'submitter_id': 'TCGA-HT-A614-01A-11R-A29R-07', 'concentration': '0.17', 'state': 'released', 'aliquot_volume': '13.0'}], 'submitter_id': 'TCGA-HT-A614-01A-11R', 'concentration': '0.17', 'ribosomal_rna_28s_16s_ratio': '1.17', 'analyte_type_id': 'R', 'analyte_id': 'fe2e8842-3d6e-407b-9e65-1c3866e02d87', 'analyte_type': 'RNA', 'updated_datetime': '2021-09-08T18:10:54.332118-05:00', 'normal_tumor_genotype_snp_match': 'Yes', 'rna_integrity_number': '7.6', 'spectrophotometer_method': 'UV Spec', 'state': 'released', 'a260_a280_ratio': '1.85'}], 'portion_id': '4183203e-41b9-4fee-8edd-2f9fdb41007e', 'slides': [{'percent_stromal_cells': '50.0', 'submitter_id': 'TCGA-HT-A614-01A-01-TSA', 'section_location': 'TOP', 'percent_tumor_cells': '45.0', 'slide_id': '4d6c2740-f56f-4e18-b50f-d386a13792c8', 'percent_neutrophil_infiltration': '0.0', 'percent_lymphocyte_infiltration': '0.0', 'updated_datetime': '2018-09-06T19:04:21.476394-05:00', 'percent_necrosis': '0.0', 'percent_monocyte_infiltration': '0.0', 'percent_normal_cells': '5.0', 'state': 'released', 'percent_tumor_nuclei': '70.0'}], 'updated_datetime': '2018-09-06T19:04:21.476394-05:00', 'creation_datetime': '1364774400.0', 'submitter_id': 'TCGA-HT-A614-01A-11', 'weight': '30.0', 'portion_number': '11', 'state': 'released', 'is_ffpe': 'false'}, {'analytes': [], 'portion_id': '5cba220f-5b60-49ad-b13e-3b24c124c82a', 'submitter_id': 'TCGA-HT-A614-01A-21', 'state': 'released', 'updated_datetime': '2021-07-13T16:11:11.311514-05:00', 'created_datetime': '2020-08-31T16:39:28.834330-05:00'}]}], 'project': {'project_id': 'TCGA-LGG'}, 'submitter_id': 'TCGA-HT-A614', 'case_id': '001ad307-4ad3-4f1d-b2fc-efc032871c7e'}\n"
     ]
    }
   ],
   "source": [
    "import boto3\n",
    "\n",
    "dynamodb = boto3.resource('dynamodb', \n",
    "    aws_access_key_id=os.getenv('AWS_ACCESS_KEY_ID'),\n",
    "    aws_secret_access_key=os.getenv('AWS_SECRET_ACCESS_KEY'),\n",
    "    region_name=os.getenv('AWS_REGION')\n",
    "    )\n",
    "\n",
    "table = dynamodb.Table('biospecimen')\n",
    "\n",
    "response = table.query(\n",
    "    KeyConditionExpression=boto3.dynamodb.conditions.Key('case_id').eq('001ad307-4ad3-4f1d-b2fc-efc032871c7e')\n",
    ")\n",
    "\n",
    "# Process Results\n",
    "for item in response['Items']:\n",
    "    print(item)"
   ]
  },
  {
   "cell_type": "code",
   "execution_count": null,
   "id": "03bc11e1",
   "metadata": {},
   "outputs": [],
   "source": [
    "# Visualize the types of biospecimens (e.g., Tumor, Blood Derived Normal) using a pie or donut chart. Include insights on preservation methods (FFPE vs. fresh) and tissue types.\n",
    "\n",
    "response = tab"
   ]
  }
 ],
 "metadata": {
  "kernelspec": {
   "display_name": "env",
   "language": "python",
   "name": "python3"
  },
  "language_info": {
   "codemirror_mode": {
    "name": "ipython",
    "version": 3
   },
   "file_extension": ".py",
   "mimetype": "text/x-python",
   "name": "python",
   "nbconvert_exporter": "python",
   "pygments_lexer": "ipython3",
   "version": "3.12.4"
  }
 },
 "nbformat": 4,
 "nbformat_minor": 5
}
